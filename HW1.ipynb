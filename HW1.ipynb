{
 "cells": [
  {
   "cell_type": "markdown",
   "id": "43256964",
   "metadata": {},
   "source": [
    "# Assignment 1"
   ]
  },
  {
   "cell_type": "markdown",
   "id": "7d68c40a",
   "metadata": {},
   "source": [
    "1.Convert x=5 into a floating-point number"
   ]
  },
  {
   "cell_type": "code",
   "execution_count": 46,
   "id": "cdb1f116",
   "metadata": {},
   "outputs": [
    {
     "name": "stdout",
     "output_type": "stream",
     "text": [
      "5.0\n"
     ]
    }
   ],
   "source": [
    "x=float(5)\n",
    "print(x)"
   ]
  },
  {
   "cell_type": "markdown",
   "id": "c8b178a6",
   "metadata": {},
   "source": [
    "2. Remove the illegal characters in the variable name: --2022&damg-spring_2 = \"Python\""
   ]
  },
  {
   "cell_type": "code",
   "execution_count": 4,
   "id": "1aa8f4bd",
   "metadata": {},
   "outputs": [
    {
     "name": "stdout",
     "output_type": "stream",
     "text": [
      "python\n"
     ]
    }
   ],
   "source": [
    "#--2022&damg-spring_2 = \"Python\"\n",
    "damgspring_2 = \"python\"\n",
    "print(damgspring_2)"
   ]
  },
  {
   "cell_type": "markdown",
   "id": "319d3f2b",
   "metadata": {},
   "source": [
    "3. A string: I’m a student in Northeastern University"
   ]
  },
  {
   "cell_type": "code",
   "execution_count": 47,
   "id": "c4bc77b5",
   "metadata": {},
   "outputs": [
    {
     "name": "stdout",
     "output_type": "stream",
     "text": [
      "4\n"
     ]
    }
   ],
   "source": [
    "#1. Use count() method to count how many times “e” occurs in this string.\n",
    "string_name = \"I’m a student in Northeastern University.\"\n",
    "a=string_name.count(\"e\")\n",
    "print(a)"
   ]
  },
  {
   "cell_type": "code",
   "execution_count": 48,
   "id": "c5a177a8",
   "metadata": {},
   "outputs": [
    {
     "name": "stdout",
     "output_type": "stream",
     "text": [
      "8\n"
     ]
    }
   ],
   "source": [
    "#2. Use index() method to give the index of “u”.\n",
    "string_name = \"I’m a student in Northeastern University.\"\n",
    "a=string_name.index(\"u\")\n",
    "print(a)"
   ]
  },
  {
   "cell_type": "code",
   "execution_count": 49,
   "id": "6ed9ca05",
   "metadata": {},
   "outputs": [
    {
     "name": "stdout",
     "output_type": "stream",
     "text": [
      "sity\n"
     ]
    }
   ],
   "source": [
    "#3. Use the negative indexes to slice the string and get the sub-string “sity”.\n",
    "string_name = \"I’m a student in Northeastern University.\"\n",
    "print(string_name[-5:-1])"
   ]
  },
  {
   "cell_type": "code",
   "execution_count": 50,
   "id": "667525b9",
   "metadata": {},
   "outputs": [
    {
     "name": "stdout",
     "output_type": "stream",
     "text": [
      "m a\n"
     ]
    }
   ],
   "source": [
    "#4. Get the result characters from index 2 to index 4.\n",
    "string_name = \"I’m a student in Northeastern University.\"\n",
    "print(string_name[2:5:1])"
   ]
  },
  {
   "cell_type": "code",
   "execution_count": 51,
   "id": "05aa0db1",
   "metadata": {
    "scrolled": true
   },
   "outputs": [
    {
     "name": "stdout",
     "output_type": "stream",
     "text": [
      "I’m a student in northeastern university.\n"
     ]
    }
   ],
   "source": [
    "#5. Replace the character “N” with a “n”, “U” with “u”.\n",
    "string_name = \"I’m a student in Northeastern University.\"\n",
    "a = string_name.replace(\"N\", \"n\")\n",
    "b = a.replace(\"U\", \"u\")\n",
    "print(b)"
   ]
  },
  {
   "cell_type": "code",
   "execution_count": 52,
   "id": "19fc66dc",
   "metadata": {},
   "outputs": [
    {
     "name": "stdout",
     "output_type": "stream",
     "text": [
      "I’M A STUDENT IN NORTHEASTERN UNIVERSITY.\n"
     ]
    }
   ],
   "source": [
    "#6. Change the string to upper case characters.\n",
    "string_name = \"I’m a student in Northeastern University.\"\n",
    "x=string_name.upper()\n",
    "print(x)"
   ]
  },
  {
   "cell_type": "markdown",
   "id": "4f67ff18",
   "metadata": {},
   "source": [
    "4. Return the string without any whitespace at the beginning or the end."
   ]
  },
  {
   "cell_type": "code",
   "execution_count": 53,
   "id": "eff2e62a",
   "metadata": {
    "scrolled": true
   },
   "outputs": [
    {
     "name": "stdout",
     "output_type": "stream",
     "text": [
      "Hello World\n"
     ]
    }
   ],
   "source": [
    "txt = \"     Hello World      \"\n",
    "print(txt.strip())"
   ]
  },
  {
   "cell_type": "markdown",
   "id": "5722fa71",
   "metadata": {},
   "source": [
    "5. Insert the correct syntax to add a placeholder for the age parameter."
   ]
  },
  {
   "cell_type": "code",
   "execution_count": 55,
   "id": "ac3d8154",
   "metadata": {},
   "outputs": [
    {
     "name": "stdout",
     "output_type": "stream",
     "text": [
      "Hello! My name is John, and I am 26.\n"
     ]
    }
   ],
   "source": [
    "name = \"John\"\n",
    "age = 26\n",
    "txt= \"Hello! My name is {}, and I am {}.\"\n",
    "print(txt.format(name,age))"
   ]
  },
  {
   "cell_type": "markdown",
   "id": "0cb067fe",
   "metadata": {},
   "source": [
    "6. Please fill in items in the blanks to get the result as below:  "
   ]
  },
  {
   "cell_type": "code",
   "execution_count": 59,
   "id": "1040f68f",
   "metadata": {
    "scrolled": true
   },
   "outputs": [
    {
     "name": "stdout",
     "output_type": "stream",
     "text": [
      "I have a laptop. It has 8 CPUs and 16GB memory.\n"
     ]
    }
   ],
   "source": [
    "myorder = \"I have a {0}. It has {3} {2} and {4}{1} memory.\"\n",
    "print(myorder.format(\"laptop\", \"GB\", \"CPUs\", 8, 16))  "
   ]
  },
  {
   "cell_type": "markdown",
   "id": "9ddac324",
   "metadata": {},
   "source": [
    "7. The following code is based on the old version of Python string formatting."
   ]
  },
  {
   "cell_type": "code",
   "execution_count": 60,
   "id": "cf615348",
   "metadata": {
    "scrolled": true
   },
   "outputs": [
    {
     "name": "stdout",
     "output_type": "stream",
     "text": [
      "Hello Smith Mary. Your current balance is $84.65.\n"
     ]
    }
   ],
   "source": [
    "name1 = \"Smith\"\n",
    "name2 = \"Mary\"\n",
    "money = 84.6526666\n",
    "\n",
    "string_name=\"Hello {} {}. Your current balance is ${:.2f}.\"\n",
    "print(string_name.format(name1,name2,money))"
   ]
  },
  {
   "cell_type": "markdown",
   "id": "13327c2d",
   "metadata": {},
   "source": [
    "8. Write a command to make the first letter in each word upper case.\n",
    "#A method to accelerate computation for machine learning."
   ]
  },
  {
   "cell_type": "code",
   "execution_count": 61,
   "id": "b2eb56db",
   "metadata": {},
   "outputs": [
    {
     "name": "stdout",
     "output_type": "stream",
     "text": [
      "A Method To Accelerate Computation For Machine Learning.\n"
     ]
    }
   ],
   "source": [
    "string_name = \"A method to accelerate computation for machine learning.\"\n",
    "print(string_name.title())"
   ]
  },
  {
   "cell_type": "markdown",
   "id": "ca9aab7d",
   "metadata": {},
   "source": [
    "9. Please remove all other characters and keep only “great”.\n",
    "Astr = \",,,oohhmy.....great....ahhh……\""
   ]
  },
  {
   "cell_type": "code",
   "execution_count": 62,
   "id": "d73abc36",
   "metadata": {},
   "outputs": [
    {
     "name": "stdout",
     "output_type": "stream",
     "text": [
      "great\n"
     ]
    }
   ],
   "source": [
    "txt = \",,,oohhmy.....great....ahhh....\"\n",
    "x = txt.strip(\",.ohmya\")\n",
    "print(x)"
   ]
  },
  {
   "cell_type": "markdown",
   "id": "b08a707d",
   "metadata": {},
   "source": [
    "10. I am standing in the ****center****."
   ]
  },
  {
   "cell_type": "code",
   "execution_count": 3,
   "id": "cf0cd681",
   "metadata": {},
   "outputs": [
    {
     "name": "stdout",
     "output_type": "stream",
     "text": [
      "I am standing in the ****center****\n"
     ]
    }
   ],
   "source": [
    "example = \"I am standing in the ****{test}****\".format(test=\"center\")\n",
    "print (example)"
   ]
  },
  {
   "cell_type": "markdown",
   "id": "35e639b5",
   "metadata": {},
   "source": [
    "11. Please use the variable num1 and num2 to print the output as below:"
   ]
  },
  {
   "cell_type": "code",
   "execution_count": 7,
   "id": "05986064",
   "metadata": {},
   "outputs": [
    {
     "name": "stdout",
     "output_type": "stream",
     "text": [
      "My house is 3,800 square feet and values $1,500,000\n"
     ]
    }
   ],
   "source": [
    "num1 = 3800\n",
    "num2 = 1500000\n",
    "example = \"My house is {:,} square feet and values ${:,}\".format(num1, num2)\n",
    "print (example)"
   ]
  },
  {
   "cell_type": "markdown",
   "id": "beb13dac",
   "metadata": {},
   "source": [
    "12. fruits = [\"apple\", \"banana\", \"cherry\", \"orange\", \"kiwi\", \"melon\", \"mango\"]\n",
    "\n",
    "(1) Use a command to print out: [\"cherry\", \"orange\", \"kiwi\"]\n",
    "\n",
    "(2) Use a command to print out: [\"banana\", \"orange\", \"melon\"]\n",
    "\n",
    "(3) Remove \"banana\" from this list.\n",
    "\n",
    "(4) Insert \"lemon\" as the second item in the list"
   ]
  },
  {
   "cell_type": "code",
   "execution_count": 23,
   "id": "d8615ec0",
   "metadata": {},
   "outputs": [
    {
     "data": {
      "text/plain": [
       "['cherry', 'orange', 'kiwi']"
      ]
     },
     "execution_count": 23,
     "metadata": {},
     "output_type": "execute_result"
    }
   ],
   "source": [
    "#1\n",
    "fruits = [\"apple\", \"banana\", \"cherry\", \"orange\", \"kiwi\", \"melon\", \"mango\"]\n",
    "fruits[2:5]"
   ]
  },
  {
   "cell_type": "code",
   "execution_count": 26,
   "id": "760b2507",
   "metadata": {},
   "outputs": [
    {
     "name": "stdout",
     "output_type": "stream",
     "text": [
      "['apple', 'lemon', 'banana', 'cherry', 'orange', 'kiwi', 'melon', 'mango']\n"
     ]
    }
   ],
   "source": [
    "#4\n",
    "fruits = [\"apple\", \"banana\", \"cherry\", \"orange\", \"kiwi\", \"melon\", \"mango\"] \n",
    "fruits.insert(1, \"lemon\")\n",
    "print(fruits)\n"
   ]
  },
  {
   "cell_type": "code",
   "execution_count": 27,
   "id": "a45f411b",
   "metadata": {},
   "outputs": [
    {
     "data": {
      "text/plain": [
       "['banana', 'orange', 'melon']"
      ]
     },
     "execution_count": 27,
     "metadata": {},
     "output_type": "execute_result"
    }
   ],
   "source": [
    "#2\n",
    "fruits = [\"apple\", \"banana\", \"cherry\", \"orange\", \"kiwi\", \"melon\", \"mango\"]\n",
    "fruits[1:6:2]"
   ]
  },
  {
   "cell_type": "code",
   "execution_count": 28,
   "id": "4a7cda3d",
   "metadata": {},
   "outputs": [
    {
     "name": "stdout",
     "output_type": "stream",
     "text": [
      "['apple', 'cherry', 'orange', 'kiwi', 'melon', 'mango']\n"
     ]
    }
   ],
   "source": [
    "#3\n",
    "fruits = [\"apple\", \"banana\", \"cherry\", \"orange\", \"kiwi\", \"melon\", \"mango\"] \n",
    "fruits.remove(\"banana\")\n",
    "print(fruits)"
   ]
  },
  {
   "cell_type": "markdown",
   "id": "08a84499",
   "metadata": {},
   "source": [
    "13. Please sort this list in ascending order of their absolute values. alist = [0, -3, 8, -10, 9, -6, 7, -8, 4, 11]"
   ]
  },
  {
   "cell_type": "code",
   "execution_count": 30,
   "id": "e3ea6169",
   "metadata": {
    "scrolled": true
   },
   "outputs": [
    {
     "name": "stdout",
     "output_type": "stream",
     "text": [
      "[-10, -8, -6, -3, 0, 4, 7, 8, 9, 11]\n"
     ]
    }
   ],
   "source": [
    "alist = [0, -3, 8, -10, 9, -6, 7, -8, 4, 11]\n",
    "alist.sort()\n",
    "print(alist)"
   ]
  },
  {
   "cell_type": "markdown",
   "id": "be66fe10",
   "metadata": {},
   "source": [
    "14. A tuple\n",
    "fruits = (\"apple\", \"banana\", \"cherry\")\n",
    "\n",
    "(1) Insert \"kiwi\" as the second item in the list\n",
    "\n",
    "(2) Add “lemon” to the end of this tuple.\n",
    "\n",
    "(3) Print out as:\n",
    "      apple\n",
    "      kiwi\n",
    "      [‘banana’, 'cherry', 'lemon']"
   ]
  },
  {
   "cell_type": "code",
   "execution_count": 37,
   "id": "9db1cc53",
   "metadata": {},
   "outputs": [
    {
     "name": "stdout",
     "output_type": "stream",
     "text": [
      "('apple', 'kiwi', 'banana', 'cherry')\n"
     ]
    }
   ],
   "source": [
    "#1\n",
    "fruits = (\"apple\", \"banana\", \"cherry\")\n",
    "fruits = fruits[:1] + ('kiwi',) + fruits[1:]\n",
    "print(fruits)"
   ]
  },
  {
   "cell_type": "code",
   "execution_count": 39,
   "id": "568f3d30",
   "metadata": {},
   "outputs": [
    {
     "name": "stdout",
     "output_type": "stream",
     "text": [
      "('apple', 'banana', 'cherry', 'lemon')\n"
     ]
    }
   ],
   "source": [
    "#2\n",
    "fruits = (\"apple\", \"banana\", \"cherry\")\n",
    "fruits = fruits + ('lemon',)\n",
    "print(fruits)"
   ]
  },
  {
   "cell_type": "code",
   "execution_count": 43,
   "id": "e4bda739",
   "metadata": {},
   "outputs": [
    {
     "name": "stdout",
     "output_type": "stream",
     "text": [
      "apple\n",
      "Kiwi\n",
      "['banana', 'cherry', 'lemon']\n"
     ]
    }
   ],
   "source": [
    "#3\n",
    "fruits = (\"apple\", \"banana\", \"cherry\")\n",
    "fruits1 = fruits[:1] + ('Kiwi',) + fruits[1:]\n",
    "fruits2 = fruits1 + ('lemon',)\n",
    "\n",
    "(a, b, *c) = fruits2\n",
    "print(a)\n",
    "print(b)\n",
    "print(c)"
   ]
  },
  {
   "cell_type": "markdown",
   "id": "d04ab412",
   "metadata": {},
   "source": [
    "15. fruits = [\"apple\", \"kiwi\", \"melon\"]\n",
    "nums = [2, 5, 3]\n",
    "Please combine these 2 lists into a list of tuples:"
   ]
  },
  {
   "cell_type": "code",
   "execution_count": 2,
   "id": "04f4d660",
   "metadata": {},
   "outputs": [
    {
     "data": {
      "text/plain": [
       "[('apple', 2), ('kiwi', 5), ('melon', 3)]"
      ]
     },
     "execution_count": 2,
     "metadata": {},
     "output_type": "execute_result"
    }
   ],
   "source": [
    "fruits = [\"apple\", \"kiwi\", \"melon\"]\n",
    "nums = [2, 5, 3]\n",
    "[(fruits[i], nums[i]) for i in range(0, len(fruits))]"
   ]
  },
  {
   "cell_type": "markdown",
   "id": "c110ae42",
   "metadata": {},
   "source": [
    "16. Remove duplicate elements from a List: mylist=[1,3,1,6,9,3,7,8,9,2,8,5]"
   ]
  },
  {
   "cell_type": "code",
   "execution_count": 42,
   "id": "a630aee3",
   "metadata": {},
   "outputs": [
    {
     "name": "stdout",
     "output_type": "stream",
     "text": [
      "[1, 3, 6, 9, 7, 8, 2, 5]\n"
     ]
    }
   ],
   "source": [
    "mylist = [1,3,1,6,9,3,7,8,9,2,8,5]\n",
    "mylist = list(dict.fromkeys(mylist))\n",
    "print(mylist)"
   ]
  },
  {
   "cell_type": "markdown",
   "id": "c8a12afb",
   "metadata": {},
   "source": [
    "17. Perform different set operations: \n",
    "M = {0, 2, 4, 6, 8, 10}\n",
    "\n",
    "N = {1, 2, 3, 4, 5, 7, 8, 9}\n",
    "\n",
    "print(\"Union of M and N is\",     )\n",
    "\n",
    "print(\"Intersection of M and N is\",       )\n",
    "\n",
    "print(\"Difference of M and N is\",        )\n",
    "\n",
    "print(\"Symmetric difference of M and N is\",           )\n"
   ]
  },
  {
   "cell_type": "code",
   "execution_count": 45,
   "id": "110d1d92",
   "metadata": {
    "scrolled": true
   },
   "outputs": [
    {
     "name": "stdout",
     "output_type": "stream",
     "text": [
      "Union of sets: {0, 1, 2, 3, 4, 5, 6, 7, 8, 9, 10}\n",
      "Intersection of sets: {8, 2, 4}\n",
      "Difference of sets: {0, 10, 6}\n",
      "Symmetric Difference of sets: {0, 1, 3, 5, 6, 7, 9, 10}\n"
     ]
    }
   ],
   "source": [
    "M = {0, 2, 4, 6, 8, 10}\n",
    "\n",
    "N = {1, 2, 3, 4, 5, 7, 8, 9}\n",
    "\n",
    "# print(\"Union of M and N is\",)\n",
    "U=M.union(N)\n",
    "\n",
    "#Intersection of M and N is\n",
    "I=M.intersection(N)\n",
    "\n",
    "#Difference of M and N is\n",
    "D=M.difference(N)\n",
    "\n",
    "#Symmetric difference of M and N is\n",
    "SD=M.symmetric_difference(N)\n",
    "\n",
    "print(\"Union of sets:\", U)\n",
    "print(\"Intersection of sets:\", I)\n",
    "print(\"Difference of sets:\", D)\n",
    "print(\"Symmetric Difference of sets:\", SD)"
   ]
  },
  {
   "cell_type": "code",
   "execution_count": null,
   "id": "c72e832e",
   "metadata": {},
   "outputs": [],
   "source": []
  }
 ],
 "metadata": {
  "kernelspec": {
   "display_name": "Python 3 (ipykernel)",
   "language": "python",
   "name": "python3"
  },
  "language_info": {
   "codemirror_mode": {
    "name": "ipython",
    "version": 3
   },
   "file_extension": ".py",
   "mimetype": "text/x-python",
   "name": "python",
   "nbconvert_exporter": "python",
   "pygments_lexer": "ipython3",
   "version": "3.9.7"
  }
 },
 "nbformat": 4,
 "nbformat_minor": 5
}
