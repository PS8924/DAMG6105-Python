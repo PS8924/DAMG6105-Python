{
 "cells": [
  {
   "cell_type": "markdown",
   "id": "10d4b5a2",
   "metadata": {},
   "source": [
    "# HomeWork 2"
   ]
  },
  {
   "cell_type": "markdown",
   "id": "d527fd72",
   "metadata": {},
   "source": [
    "1. fruits = {\"apple\", \"banana\", \"cherry\", \"orange\"}\n",
    "(1) add \"kiwi\" to the fruits\n",
    "\n",
    "(2) Use the correct method to add multiple items more_fruits to the fruits set.\n",
    "\n",
    "        more_fruits = [\"orange\", \"mango\", \"grapes\"]\n",
    "\n",
    "(3) remove \"banana\" from the fruits set."
   ]
  },
  {
   "cell_type": "code",
   "execution_count": 1,
   "id": "9304b3c8",
   "metadata": {},
   "outputs": [
    {
     "name": "stdout",
     "output_type": "stream",
     "text": [
      "{'orange', 'kiwi', 'cherry', 'banana', 'apple'}\n",
      "{'orange', 'kiwi', 'mango', 'grapes', 'cherry', 'banana', 'apple'}\n",
      "{'orange', 'kiwi', 'mango', 'grapes', 'cherry', 'apple'}\n"
     ]
    }
   ],
   "source": [
    "# 1)\n",
    "fruits={\"apple\",\"banana\",\"cherry\",\"orange\"}\n",
    "fruits.add(\"kiwi\")\n",
    "print(fruits)\n",
    "\n",
    "# 2)\n",
    "more_fruits =[\"orange\",\"mango\",\"grapes\"]\n",
    "fruits.update(more_fruits)\n",
    "print(fruits)\n",
    "\n",
    "# 3)\n",
    "fruits.remove(\"banana\")\n",
    "print(fruits)"
   ]
  },
  {
   "cell_type": "markdown",
   "id": "22899694",
   "metadata": {},
   "source": [
    "2. car = {\"brand\": \"Ford\", \"model\": \"Explore\", \"year\": 2006}\n",
    "(1) Use a method to print the value of the \"model\".\n",
    "\n",
    "(2) Change year from 2006 to 2020\n",
    "\n",
    "(3) Use a method to remove \"model\" from this dictionary."
   ]
  },
  {
   "cell_type": "code",
   "execution_count": 2,
   "id": "f23972c3",
   "metadata": {},
   "outputs": [
    {
     "name": "stdout",
     "output_type": "stream",
     "text": [
      "Explore\n",
      "{'brand': 'Ford', 'model': 'Explore', 'year': 2020}\n",
      "{'brand': 'Ford', 'year': 2020}\n"
     ]
    }
   ],
   "source": [
    "# 1)\n",
    "car={\"brand\":\"Ford\",\"model\":\"Explore\",\"year\":2006}\n",
    "print(car.get(\"model\"))\n",
    "\n",
    "# 2)\n",
    "car[\"year\"]=2020\n",
    "print(car)\n",
    "\n",
    "# 3\n",
    "car.pop(\"model\")\n",
    "print(car)"
   ]
  },
  {
   "cell_type": "markdown",
   "id": "e7bce34e",
   "metadata": {},
   "source": [
    "3. Remove the items that are duplicated in two lists and combine into one list.\n",
    "list_1 = [1, 3, 1, 6, 9]\n",
    "\n",
    "list_2 = [7, 5, 2, 8]"
   ]
  },
  {
   "cell_type": "code",
   "execution_count": 3,
   "id": "7016b99a",
   "metadata": {},
   "outputs": [
    {
     "name": "stdout",
     "output_type": "stream",
     "text": [
      "[1, 2, 3, 5, 6, 7, 8, 9]\n"
     ]
    }
   ],
   "source": [
    "list_1 = [1, 3, 1, 6, 9]\n",
    "list_2 = [7, 5, 2, 8]\n",
    "\n",
    "# L1 = set(list_1)\n",
    "# L2 = set(list_2)\n",
    "\n",
    "# in_second_but_not_in_first = L2-L1\n",
    "\n",
    "# result = list(L1) + list(L2)\n",
    "\n",
    "result= list(set(list_1) | set(list_2))\n",
    "print(result)"
   ]
  },
  {
   "cell_type": "markdown",
   "id": "5e47ba62",
   "metadata": {},
   "source": [
    "4. dt = {'a': 'time', 'b': 'money', 'c': 'health'} \n",
    "Use two approaches to iterate over a dictionary and print out as below:\n",
    "a time\n",
    "b money\n",
    "c health"
   ]
  },
  {
   "cell_type": "code",
   "execution_count": 7,
   "id": "d9bf94a1",
   "metadata": {},
   "outputs": [
    {
     "name": "stdout",
     "output_type": "stream",
     "text": [
      "a time\n",
      "b money\n",
      "c health\n",
      "second approch!!\n",
      "  \n",
      "a time\n",
      "b money\n",
      "c health\n"
     ]
    }
   ],
   "source": [
    "dt = {'a': 'time', 'b': 'money', 'c': 'health'}\n",
    "\n",
    "# 1)\n",
    "for key in dt:\n",
    "    print(key, dt[key])\n",
    "    \n",
    "print(\"second approch!!\") \n",
    "print(\"  \") \n",
    "# 2)\n",
    "for key, value in dt.items():\n",
    "    print(key, value)\n"
   ]
  },
  {
   "cell_type": "markdown",
   "id": "9ed38deb",
   "metadata": {},
   "source": [
    "5. mylist = [21, 31, 41, 51, 61, 71, 81] \n",
    "Use two approaches to access index of a list and print out the list with its index.\n",
    "Result as below:\n",
    "\n",
    "1 21 2 31 3 41 4 51 5 61 6 71 7 81"
   ]
  },
  {
   "cell_type": "code",
   "execution_count": 10,
   "id": "ae9b0f9a",
   "metadata": {},
   "outputs": [
    {
     "name": "stdout",
     "output_type": "stream",
     "text": [
      "0 21\n",
      "1 31\n",
      "2 41\n",
      "3 51\n",
      "4 61\n",
      "5 71\n",
      "6 81\n",
      "second approch....\n",
      "1 21\n",
      "2 31\n",
      "3 41\n",
      "4 51\n",
      "5 61\n",
      "6 71\n",
      "7 81\n"
     ]
    }
   ],
   "source": [
    "mylist = [21, 31, 41, 51, 61, 71, 81]\n",
    "\n",
    "# 1)\n",
    "index = 1\n",
    "for index in range(len(mylist)):\n",
    "    value = mylist[index]\n",
    "    print(index, value)\n",
    "\n",
    "print(\"second approch....\")\n",
    "\n",
    "# 2)\n",
    "for index, val in enumerate(mylist, start=1):\n",
    "    print(index, val)"
   ]
  },
  {
   "cell_type": "markdown",
   "id": "2b34874b",
   "metadata": {},
   "source": [
    "6. Sort alphabetically the words form a string: “Virus surge hits New England despite high vaccination rates”. And print out the sorted words (no uppercase words) one by one. \n",
    "astr = \"Virus surge hits New England despite high vaccination rates\""
   ]
  },
  {
   "cell_type": "code",
   "execution_count": 11,
   "id": "b2f6d342",
   "metadata": {},
   "outputs": [
    {
     "name": "stdout",
     "output_type": "stream",
     "text": [
      "despite\n",
      "high\n",
      "hits\n",
      "rates\n",
      "surge\n",
      "vaccination\n"
     ]
    }
   ],
   "source": [
    "astr= 'Virus surge hits New England despite high vaccination rates'\n",
    "words = astr.split()\n",
    "words.sort()\n",
    "for word in words:\n",
    "    if word[0].islower():\n",
    "        print (word)\n",
    "    "
   ]
  },
  {
   "cell_type": "markdown",
   "id": "f05d92e8",
   "metadata": {},
   "source": [
    "7. mylist = [[8], [3, 2], [1, 3, 4, 5]]\n",
    "Use a nested for-loop approach to make it flattened as [8, 3, 2, 1, 3, 4, 5]."
   ]
  },
  {
   "cell_type": "code",
   "execution_count": 13,
   "id": "c52cae20",
   "metadata": {},
   "outputs": [
    {
     "name": "stdout",
     "output_type": "stream",
     "text": [
      "[8, 3, 2, 1, 3, 4, 5]\n"
     ]
    }
   ],
   "source": [
    "mylist=[[8],[3,2],[1,3,4,5]]\n",
    "flat_list = []\n",
    "for i in mylist:\n",
    "    if type(i) is list:\n",
    "        for item in i:\n",
    "            flat_list.append(item)\n",
    "    else:\n",
    "        flat_list.append(i)\n",
    "print(flat_list)"
   ]
  },
  {
   "cell_type": "markdown",
   "id": "ae159d0c",
   "metadata": {},
   "source": [
    "8. Print a multiplication table of 8 and print out results as below: 8 times the number from 1 to 10: \n",
    "8 x 1 = 8\n",
    "8 x 2 = 16\n",
    "8 x 3 = 24\n",
    "8 x 4 = 32\n",
    "8 x 5 = 40\n",
    "8 x 6 = 48\n",
    "8 x 7 = 56\n",
    "8 x 8 = 64\n",
    "8 x 9 = 72\n",
    "8 x 10 = 80"
   ]
  },
  {
   "cell_type": "code",
   "execution_count": 14,
   "id": "b20fa3cc",
   "metadata": {},
   "outputs": [
    {
     "name": "stdout",
     "output_type": "stream",
     "text": [
      "8x 1 = 8\n",
      "8x 2 = 16\n",
      "8x 3 = 24\n",
      "8x 4 = 32\n",
      "8x 5 = 40\n",
      "8x 6 = 48\n",
      "8x 7 = 56\n",
      "8x 8 = 64\n",
      "8x 9 = 72\n",
      "8x 10 = 80\n"
     ]
    }
   ],
   "source": [
    "x=8\n",
    "y=0\n",
    "for i in range(1,11):\n",
    "    z=x*i\n",
    "    print(\"8x\",i,\"=\",z)"
   ]
  },
  {
   "cell_type": "markdown",
   "id": "89b4a71e",
   "metadata": {},
   "source": [
    "9. Use a loop to find the Factorial of the number 6. "
   ]
  },
  {
   "cell_type": "code",
   "execution_count": 15,
   "id": "dfb86caa",
   "metadata": {},
   "outputs": [
    {
     "name": "stdout",
     "output_type": "stream",
     "text": [
      "The factorial of 6 is 720\n"
     ]
    }
   ],
   "source": [
    "number=6\n",
    "factorial = 1\n",
    "for i in range(1,number + 1):\n",
    "    factorial = factorial*i\n",
    "print(\"The factorial of\",number,\"is\",factorial)"
   ]
  },
  {
   "cell_type": "markdown",
   "id": "2f88c10a",
   "metadata": {},
   "source": [
    "10. Use a while loop to count the number of digits present in the following number. num = 963969123456"
   ]
  },
  {
   "cell_type": "code",
   "execution_count": 16,
   "id": "f2e546be",
   "metadata": {},
   "outputs": [
    {
     "name": "stdout",
     "output_type": "stream",
     "text": [
      "Number of digits: 12\n"
     ]
    }
   ],
   "source": [
    "num = 963969123456\n",
    "count = 0\n",
    "\n",
    "while num != 0:\n",
    "    num //= 10\n",
    "    count += 1\n",
    "\n",
    "print(\"Number of digits: \" + str(count))"
   ]
  },
  {
   "cell_type": "markdown",
   "id": "3c295b17",
   "metadata": {},
   "source": [
    "11. Define a function to convert Celsius to Fahrenheit and display it.\n",
    "The formula is: Celsius * 1.8 = Fahrenheit - 32\n",
    "\n",
    "When celsius=36.5, the output should be:\n",
    "\n",
    "      36.5 Celsius degree is equal to 97.7 Fahrenheit degree."
   ]
  },
  {
   "cell_type": "code",
   "execution_count": 18,
   "id": "6e116ce4",
   "metadata": {},
   "outputs": [
    {
     "name": "stdout",
     "output_type": "stream",
     "text": [
      "Enter temperature in Celsius: 67\n",
      "67.0 degree is equal to 152.60000000000002 Fahrenheit degree.\n"
     ]
    }
   ],
   "source": [
    "def celsius_to_fahr(temp):\n",
    "    temp_fahr = (temp*1.8) + 32\n",
    "    return temp_fahr\n",
    "celsius = float(input('Enter temperature in Celsius: '))\n",
    "fahr = celsius_to_fahr(celsius)\n",
    "print(f\"{celsius} degree is equal to {fahr} Fahrenheit degree.\")"
   ]
  },
  {
   "cell_type": "markdown",
   "id": "3129ff0d",
   "metadata": {},
   "source": [
    "12. Define a function to calculate an area of a triangle according to the following formula:\n",
    "If a, b and c are three sides of a triangle. Then, the area of a triangle can be calculated as:\n",
    "s = (a+b+c)/2\n",
    "area = √(s(s-a)*(s-b)*(s-c))     (here: √ is square root )\n",
    "Now, we have a=5, b=6,c=7.\n",
    "Please call this function to calculate the area of this triangle. "
   ]
  },
  {
   "cell_type": "code",
   "execution_count": 19,
   "id": "24619604",
   "metadata": {},
   "outputs": [
    {
     "name": "stdout",
     "output_type": "stream",
     "text": [
      "14.696938456699069\n"
     ]
    }
   ],
   "source": [
    "def area(a, b, c):\n",
    "    s = (a + b + c) / 2\n",
    "    area = float((s * (s - a) * (s - b) * (s - c)) ** 0.5)\n",
    "    print(area)\n",
    "\n",
    "area(5, 6, 7)"
   ]
  },
  {
   "cell_type": "markdown",
   "id": "eda32062",
   "metadata": {},
   "source": [
    "13. Define a function pri_num(lower, upper) to print all prime numbers between lower=900 and upper=1000. "
   ]
  },
  {
   "cell_type": "code",
   "execution_count": 23,
   "id": "e6aff0ea",
   "metadata": {},
   "outputs": [
    {
     "name": "stdout",
     "output_type": "stream",
     "text": [
      " 907   911   919   929   937   941   947   953   967   971   977   983   991   997  "
     ]
    }
   ],
   "source": [
    "for number in range (900, 1000):\n",
    "    count = 0\n",
    "    for i in range(2, (Number//2 + 1)):\n",
    "        if(number % i == 0):\n",
    "            count = count + 1\n",
    "            break\n",
    "\n",
    "    if (count == 0 and number != 1):\n",
    "        print(\" %d\" %number, end = '  ')"
   ]
  },
  {
   "cell_type": "code",
   "execution_count": null,
   "id": "c0118da6",
   "metadata": {},
   "outputs": [],
   "source": []
  }
 ],
 "metadata": {
  "kernelspec": {
   "display_name": "Python 3 (ipykernel)",
   "language": "python",
   "name": "python3"
  },
  "language_info": {
   "codemirror_mode": {
    "name": "ipython",
    "version": 3
   },
   "file_extension": ".py",
   "mimetype": "text/x-python",
   "name": "python",
   "nbconvert_exporter": "python",
   "pygments_lexer": "ipython3",
   "version": "3.9.7"
  }
 },
 "nbformat": 4,
 "nbformat_minor": 5
}
