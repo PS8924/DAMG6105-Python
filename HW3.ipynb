{
 "cells": [
  {
   "cell_type": "code",
   "execution_count": 31,
   "id": "bbc6c06b-0c4f-4be0-a6a6-4729bcbf80c2",
   "metadata": {},
   "outputs": [
    {
     "name": "stdout",
     "output_type": "stream",
     "text": [
      "2  8  6  4  10  "
     ]
    }
   ],
   "source": [
    "# Pankti Shah - 35/50\n",
    "#1. Use two approaches (for loop and list comprehension) to implement the following operations:\n",
    "# Every element in a new list should meet 1) the element is even number; \n",
    "num = [1,3,2,5,8,3,6,4,7,9,10]\n",
    "for i in range(len(num)):\n",
    "    if (num[i] % 2 == 0):\n",
    "        print(num[i], end = \"  \")\n",
    "        \n"
   ]
  },
  {
   "cell_type": "code",
   "execution_count": 18,
   "id": "27e84f3b-851e-4b88-8037-6298d12eaa9e",
   "metadata": {},
   "outputs": [
    {
     "name": "stdout",
     "output_type": "stream",
     "text": [
      "1  3  5  3  7  9  "
     ]
    }
   ],
   "source": [
    "#1.\n",
    "num = [1,3,2,5,8,3,6,4,7,9,10]\n",
    "for i in range(len(num)):\n",
    "    if (num[i] % 2 != 0):\n",
    "        print(num[i], end = \"  \")\n",
    "        \n"
   ]
  },
  {
   "cell_type": "code",
   "execution_count": 17,
   "id": "9b7c193e-ce90-4930-9df3-ad176e1f0920",
   "metadata": {},
   "outputs": [
    {
     "name": "stdout",
     "output_type": "stream",
     "text": [
      "[2, 8, 6, 4, 10]\n",
      "[1, 3, 5, 3, 7, 9]\n"
     ]
    }
   ],
   "source": [
    "#1.\n",
    "num = [1,3,2,5,8,3,6,4,7,9,10]\n",
    "even = [i for i in num if i%2 == 0]\n",
    "odd = [x for x in num if x%2 != 0]\n",
    "print(even)\n",
    "print(odd)"
   ]
  },
  {
   "cell_type": "code",
   "execution_count": null,
   "id": "de7398fa-7135-4787-873e-797d90c9199c",
   "metadata": {},
   "outputs": [],
   "source": []
  },
  {
   "cell_type": "code",
   "execution_count": 11,
   "id": "184444d4-7d34-4826-91d5-be7dcb69d746",
   "metadata": {},
   "outputs": [
    {
     "name": "stdout",
     "output_type": "stream",
     "text": [
      "[[1, 2], [3, 4], [5, 6], [7, 8], [9, 10]]\n",
      "[[1, 2], [3, 4], [5, 6], [7, 8], [9, 10]]\n"
     ]
    }
   ],
   "source": [
    "# Apporva sharma      50/50\n",
    "# 2. Use two approaches to split this list into 5 blocks, each block contains 2 elements: a) for loop;\n",
    "mylist2 = [1,2,3,4,5,6,7,8,9,10]\n",
    "chunked_list = list()\n",
    "chunk_size = 2\n",
    "for i in range(0, len(mylist2), chunk_size):\n",
    "    chunked_list.append(mylist2[i:i+chunk_size])\n",
    "print(chunked_list)\n",
    "\n",
    "# 2. Use two approaches to split this list into 5 blocks, each block contains 2 elements: b) list comprehension.\n",
    "mylist2 = [1,2,3,4,5,6,7,8,9,10]\n",
    "n = 2\n",
    "output=[mylist2[i:i + n] for i in range(0, len(mylist2), n)]\n",
    "print(output)\n"
   ]
  },
  {
   "cell_type": "code",
   "execution_count": 24,
   "id": "ed738332-01a5-45f5-ade7-a0ea467543d6",
   "metadata": {},
   "outputs": [
    {
     "data": {
      "text/plain": [
       "12399"
      ]
     },
     "execution_count": 24,
     "metadata": {},
     "output_type": "execute_result"
    }
   ],
   "source": [
    "# 3. Xianglu Shen    50/50\n",
    "# Design a function str2int to change a string \"12b3a99\" to integer.\n",
    "# Hints: only numbers in the string can be change to integer. Characters in this string will be ignored.\n",
    "def str2int(s):\n",
    "    i = ''\n",
    "    for char in s:\n",
    "        if char.isdigit():\n",
    "            i += char\n",
    "    \n",
    "    if len(i) == 0:\n",
    "        return None\n",
    "    \n",
    "    return int(i)\n",
    "str2int('12b3a99')"
   ]
  },
  {
   "cell_type": "code",
   "execution_count": null,
   "id": "e8ab4ef6-fa4c-42fa-92cf-3bc6814e6203",
   "metadata": {},
   "outputs": [],
   "source": []
  },
  {
   "cell_type": "code",
   "execution_count": 5,
   "id": "902d75fd-8d94-4f59-b696-9472a7dfd987",
   "metadata": {},
   "outputs": [
    {
     "name": "stdout",
     "output_type": "stream",
     "text": [
      "The index of fourth repetetion of the number 1 is 7\n",
      "The index of fourth repetetion of the number 1 is 7\n"
     ]
    }
   ],
   "source": [
    "# Anurag\n",
    "#Solution 4:     50/50\n",
    "#Approach 1 using for loop:\n",
    "x = [1, 2, 1, 1, 3, 4, 3, 1, 1, 2, 1, 1, 2]\n",
    "elem = 1\n",
    "y = [] #empty list for adding indices\n",
    "count =4 # counter for stopping at 4th repetetion#initiate for loop for traversing the list\n",
    "for i,e in enumerate(x):\n",
    "    if count==0:\n",
    "        break\n",
    "    elif e==elem:\n",
    "        count -= 1\n",
    "        y.append(i)\n",
    "print(\"The index of fourth repetetion of the number 1 is {}\".format(y[-1]))\n",
    "\n",
    "# Anurag Shrivastava\n",
    "#Solution 4:\n",
    "#Approach 2 using list comprehension:\n",
    "x = [1, 2, 1, 1, 3, 4, 3, 1, 1, 2, 1, 1, 2]\n",
    "y= [i for i, e in enumerate(x) if e == 1]\n",
    "\n",
    "print(\"The index of fourth repetetion of the number 1 is {}\".format(y[3]))\n",
    "\n"
   ]
  },
  {
   "cell_type": "code",
   "execution_count": 25,
   "id": "4300b8e5-ae90-49a2-b3ac-20cc7bb511a5",
   "metadata": {},
   "outputs": [
    {
     "name": "stdout",
     "output_type": "stream",
     "text": [
      "The sorted words are:\n",
      "and\n",
      "courseware\n",
      "day?\n",
      "every\n",
      "have\n",
      "hello,\n",
      "hours\n",
      "how\n",
      "many\n",
      "on\n",
      "practice\n",
      "spent\n",
      "you\n",
      "your\n"
     ]
    }
   ],
   "source": [
    "# Prachi Sanghvi     50/50\n",
    "#5. Print out the alphabetically sorted lowercase words from a string:\n",
    "mystr = \"Hello, how many hours have you spent on your courseware and practice every day?\"\n",
    "words= [word.lower() for word in mystr.split()]\n",
    "words.sort()\n",
    "print(\"The sorted words are:\")\n",
    "for word in words:\n",
    "   print(word)"
   ]
  },
  {
   "cell_type": "code",
   "execution_count": null,
   "id": "4fdddf2b-19ec-4659-b861-8474bf7d9f55",
   "metadata": {},
   "outputs": [],
   "source": [
    "# Kaleigh Sieczkowski     50/50 \n",
    "#6. Design a function to print out all factors of a number 160.\n",
    "\n",
    "def get_factors(x):\n",
    "    for i in range(1, x + 1):\n",
    "        if x % i == 0:\n",
    "            print (i)\n",
    "\n",
    "get_factors(160)"
   ]
  },
  {
   "cell_type": "code",
   "execution_count": 28,
   "id": "85abf899-0412-477e-b870-734111b7c04f",
   "metadata": {},
   "outputs": [
    {
     "name": "stdout",
     "output_type": "stream",
     "text": [
      "2018 is not a leap Year\n",
      "2020 is a leap Year\n",
      "2022 is not a leap Year\n"
     ]
    }
   ],
   "source": [
    "# Pankti shah         50/50\n",
    "#7 Design a function leapyear to check if a year is a leap year or not.\n",
    "def leapyear(year):\n",
    "    if (year % 4) == 0:\n",
    "        if (year % 100) == 0:\n",
    "            if (year % 400) == 0:\n",
    "                return True\n",
    "            else:\n",
    "                return False\n",
    "        else:\n",
    "             return True\n",
    "    else:\n",
    "        return False\n",
    "year = 2018\n",
    "year1 = 2020\n",
    "year2 = 2022\n",
    "if(leapyear(year)):\n",
    "    print(year,\"is a leap Year\")\n",
    "else:\n",
    "    print(year,\"is not a leap Year\")\n",
    "    \n",
    "if(leapyear(year1)):\n",
    "    print(year1,\"is a leap Year\")\n",
    "else:\n",
    "    print(year1,\"is not a leap Year\")\n",
    "\n",
    "if(leapyear(year2)):\n",
    "    print(year2,\"is a leap Year\")\n",
    "else:\n",
    "    print(year2,\"is not a leap Year\")"
   ]
  },
  {
   "cell_type": "code",
   "execution_count": 29,
   "id": "95dc29e7-8162-4781-8a43-673803d9488a",
   "metadata": {},
   "outputs": [
    {
     "name": "stdout",
     "output_type": "stream",
     "text": [
      "damg\n",
      "dagm\n",
      "dmag\n",
      "dmga\n",
      "dgam\n",
      "dgma\n",
      "admg\n",
      "adgm\n",
      "amdg\n",
      "amgd\n",
      "agdm\n",
      "agmd\n",
      "mdag\n",
      "mdga\n",
      "madg\n",
      "magd\n",
      "mgda\n",
      "mgad\n",
      "gdam\n",
      "gdma\n",
      "gadm\n",
      "gamd\n",
      "gmda\n",
      "gmad\n"
     ]
    }
   ],
   "source": [
    "# Apporva sharma     50/50\n",
    "# 8. Define a recursion function swap to list all the permutation of the string\n",
    "\n",
    "def swap(s):        \n",
    "    if(len(s)==1): return [s]\n",
    "    result=[]\n",
    "    for i,v in enumerate(s):\n",
    "        result += [v+p for p in swap(s[:i]+s[i+1:])]\n",
    "    return result\n",
    "\n",
    "\n",
    "swap('damg')\n",
    "print('\\n'.join(swap('damg')))"
   ]
  },
  {
   "cell_type": "code",
   "execution_count": 21,
   "id": "aa62fcb2-50a8-4fa1-b234-d7f35e7b2486",
   "metadata": {},
   "outputs": [
    {
     "data": {
      "text/plain": [
       "9"
      ]
     },
     "execution_count": 21,
     "metadata": {},
     "output_type": "execute_result"
    }
   ],
   "source": [
    "# Xianglu Shen       50/50\n",
    "#Define a function occ_char and use for-loop in the function to count the number of occurrence of a character in a string, then call:\n",
    "def occ_char(s, char):\n",
    "    count = 0\n",
    "    for i in s:\n",
    "        if i == char:\n",
    "            count += 1\n",
    "    \n",
    "    return count\n",
    "string = \"you should have the knowledge of the following python programming topics\"\n",
    "\n",
    "occ_char(string, \"o\")"
   ]
  },
  {
   "cell_type": "code",
   "execution_count": 9,
   "id": "ccc6541b-71a7-4265-8c29-bdca75ddd5be",
   "metadata": {},
   "outputs": [
    {
     "name": "stdout",
     "output_type": "stream",
     "text": [
      "The given strings \"cinema\" and \"Iceman\" are anagrams\n"
     ]
    }
   ],
   "source": [
    "# Anurag Shrivastava         50/50\n",
    "# 10. convert string into lowercase as python is case sensitive\n",
    "def anagram(str1,str2):\n",
    "#convert string into lowercase as python is case sensitive\n",
    "    lowerstr1 = str1.lower()\n",
    "    lowerstr2 = str2.lower()\n",
    "    #sort the strings for checking whether they are anagram or not\n",
    "    sortedStr1 = sorted(lowerstr1)\n",
    "    sortedStr2 = sorted(lowerstr2)\n",
    "    #if two strings are not of same length then they cannot be anagrams\n",
    "    if(len(sortedStr1) != len(sortedStr2)):\n",
    "        print(\"The given strings \\\"{0}\\\" and \\\"{1}\\\" are not anagrams\".format(str1,str2))\n",
    "    #If sorted strings are equal, then the strings are anagrams\n",
    "    elif(sortedStr1 == sortedStr2):\n",
    "        print(\"The given strings \\\"{0}\\\" and \\\"{1}\\\" are anagrams\".format(str1,str2))\n",
    "    #If sorted strings are not equal, then the strings are not anagrams\n",
    "    else:\n",
    "        print(\"The given strings \\\"{0}\\\" and \\\"{1}\\\" are not anagrams\".format(str1,str2))\n",
    "\n",
    "str1 = \"cinema\"\n",
    "str2 = \"Iceman\"\n",
    "\n",
    "\n",
    "anagram(str1,str2)\n"
   ]
  },
  {
   "cell_type": "code",
   "execution_count": 23,
   "id": "11f6fbfe-4ba7-417d-9c0b-ec7cffe30e92",
   "metadata": {},
   "outputs": [
    {
     "data": {
      "text/plain": [
       "192.0"
      ]
     },
     "execution_count": 23,
     "metadata": {},
     "output_type": "execute_result"
    }
   ],
   "source": [
    "# Prachi Sanghvi         50/50\n",
    "# 11. Define a function lcm to find LCM of two numbers and output it:\n",
    "def gcd(num1, num2):\n",
    "    if num1==0:\n",
    "        return num2\n",
    "    return gcd(num2%num1, num1)\n",
    "\n",
    "def lcm(num1, num2):\n",
    "    return (num1 / gcd(num1, num2))* num2\n",
    "num1 = 64\n",
    "num2 = 24\n",
    "lcm(num1, num2)\n"
   ]
  },
  {
   "cell_type": "code",
   "execution_count": 26,
   "id": "363dfec8-c6fa-4c47-961b-3d458ffa5743",
   "metadata": {},
   "outputs": [
    {
     "name": "stdout",
     "output_type": "stream",
     "text": [
      "101101"
     ]
    }
   ],
   "source": [
    "# Kaleigh Sieczkowski           50/50\n",
    "#12. Define a recursion function to convert Decimal to Binary, then call: conv2bin(45)\n",
    "#Hints: Decimal number is converted into binary by dividing the number successively by 2 and printing the remainder in reverse order.\n",
    "\n",
    "def conv2bin(n):\n",
    "    if(n == 0):\n",
    "        return\n",
    "    else:\n",
    "        conv2bin(int(n/2))\n",
    "        print(n % 2, end = \"\")\n",
    "\n",
    "conv2bin(45)"
   ]
  },
  {
   "cell_type": "code",
   "execution_count": null,
   "id": "f30a1c2d-474b-49ce-a33b-7e66992d0067",
   "metadata": {},
   "outputs": [],
   "source": [
    "Pankti Shah - Q1, Q7              - 85/100\n",
    "Apporva sharma - Q2, Q8           - 100/100\n",
    "Xianglu Shen - Q3, Q9             - 100/100\n",
    "Anurag Shrivastava-  Q4, Q10       - 100/100\n",
    "Prachi Sanghvi Q5, Q11             - 100/100\n",
    "Kaleigh Sieczkowski Q6, Q12        -100/100"
   ]
  }
 ],
 "metadata": {
  "kernelspec": {
   "display_name": "Python 3 (ipykernel)",
   "language": "python",
   "name": "python3"
  },
  "language_info": {
   "codemirror_mode": {
    "name": "ipython",
    "version": 3
   },
   "file_extension": ".py",
   "mimetype": "text/x-python",
   "name": "python",
   "nbconvert_exporter": "python",
   "pygments_lexer": "ipython3",
   "version": "3.9.7"
  }
 },
 "nbformat": 4,
 "nbformat_minor": 5
}
