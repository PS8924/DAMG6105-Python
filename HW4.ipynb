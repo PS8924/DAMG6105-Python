{
 "cells": [
  {
   "cell_type": "markdown",
   "id": "74474204",
   "metadata": {},
   "source": [
    "1.  Write a Python list comprehension to create a list by concatenating a given list which range goes from 1 to n.\n",
    "Sample list : ['p', 'q']\n",
    "n =5\n",
    "Sample Output : ['p1', 'q1', 'p2', 'q2', 'p3', 'q3', 'p4', 'q4', 'p5', 'q5']"
   ]
  },
  {
   "cell_type": "code",
   "execution_count": 16,
   "id": "bde8a7af",
   "metadata": {},
   "outputs": [
    {
     "name": "stdout",
     "output_type": "stream",
     "text": [
      "['p1', 'q1', 'p2', 'q2', 'p3', 'q3', 'p4', 'q4', 'p5', 'q5']\n"
     ]
    }
   ],
   "source": [
    "sample_list = ['p', 'q']\n",
    "n = 5\n",
    "new_list = ['{}{}'.format(x, y) for y in range(1, n+1) for x in sample_list]\n",
    "print(new_list)"
   ]
  },
  {
   "cell_type": "markdown",
   "id": "cb091799",
   "metadata": {},
   "source": [
    "2. Write a Python list comprehension to generate groups of five consecutive numbers in a list."
   ]
  },
  {
   "cell_type": "code",
   "execution_count": 26,
   "id": "fa1661cf",
   "metadata": {},
   "outputs": [
    {
     "name": "stdout",
     "output_type": "stream",
     "text": [
      "[[1, 2, 3, 4, 5], [6, 7, 8, 9, 10], [11, 12, 13, 14, 15], [16, 17, 18, 19, 20], [21, 22, 23, 24, 25]]\n"
     ]
    }
   ],
   "source": [
    "l = [[5*x + y for y in range(1,6)] for x in range(5)]\n",
    "print(l)"
   ]
  },
  {
   "cell_type": "markdown",
   "id": "3b35e288",
   "metadata": {},
   "source": [
    "3. Write a Python function to split a list every Nth element, then call this function and print the output, as shown in this figure.\n",
    "sample = ['a', 'b', 'c', 'd', 'e', 'f', 'g', 'h', 'i', 'j', 'k', 'l', 'm', 'n']\n",
    "\n",
    "n = 3"
   ]
  },
  {
   "cell_type": "code",
   "execution_count": 25,
   "id": "5f2f5ffb",
   "metadata": {},
   "outputs": [
    {
     "name": "stdout",
     "output_type": "stream",
     "text": [
      "[['a', 'd', 'g', 'j', 'm'], ['b', 'e', 'h', 'k', 'n'], ['c', 'f', 'i', 'l']]\n"
     ]
    }
   ],
   "source": [
    "C = ['a', 'b', 'c', 'd', 'e', 'f', 'g', 'h', 'i', 'j', 'k', 'l', 'm', 'n']\n",
    "def new_list(S, number):\n",
    "    return [S[i::number] for i in range(number)]\n",
    "print(new_list(C,3))"
   ]
  },
  {
   "cell_type": "markdown",
   "id": "56927c3a",
   "metadata": {},
   "source": [
    "4. Write 2 Python functions: max_length and min_length to find the list with maximum and minimum length using lambda.\n",
    "list1 = [[0], [1, 3], [5, 7], [9, 11, 13], [15, 17, 19, 21]]"
   ]
  },
  {
   "cell_type": "code",
   "execution_count": 42,
   "id": "4aeac2af",
   "metadata": {},
   "outputs": [
    {
     "name": "stdout",
     "output_type": "stream",
     "text": [
      "\n",
      "Maximum length of the list is: 4 and it's list: [15, 17, 19, 21]\n",
      "\n",
      "Minimum length of the list is: 1 and it's list: [0]\n"
     ]
    }
   ],
   "source": [
    "#Maximum length and its list\n",
    "def max_length_list(given_list):\n",
    "    max_length = max(len(x) for x in given_list )   \n",
    "    max_list = max(given_list, key = lambda i: len(i))    \n",
    "    return print(\"\\nMaximum length of the list is: {0} and it's list: {1}\".format(max_length, max_list))\n",
    "\n",
    "#Minimum length and its list\n",
    "def min_length_list(given_list):\n",
    "    min_length = min(len(x) for x in given_list )  \n",
    "    min_list = min(given_list, key = lambda i: len(i))\n",
    "    return print(\"\\nMinimum length of the list is: {0} and it's list: {1}\".format(min_length, min_list))\n",
    "    return(min_length, min_list)\n",
    "      \n",
    "list1 = [[0], [1, 3], [5, 7], [9, 11, 13], [15, 17, 19, 21]]\n",
    "\n",
    "max_length_list(list1)\n",
    "min_length_list(list1)"
   ]
  },
  {
   "cell_type": "code",
   "execution_count": null,
   "id": "7d1227c9",
   "metadata": {},
   "outputs": [],
   "source": []
  },
  {
   "cell_type": "code",
   "execution_count": null,
   "id": "141b9eaf",
   "metadata": {},
   "outputs": [],
   "source": []
  }
 ],
 "metadata": {
  "kernelspec": {
   "display_name": "Python 3 (ipykernel)",
   "language": "python",
   "name": "python3"
  },
  "language_info": {
   "codemirror_mode": {
    "name": "ipython",
    "version": 3
   },
   "file_extension": ".py",
   "mimetype": "text/x-python",
   "name": "python",
   "nbconvert_exporter": "python",
   "pygments_lexer": "ipython3",
   "version": "3.9.7"
  }
 },
 "nbformat": 4,
 "nbformat_minor": 5
}
